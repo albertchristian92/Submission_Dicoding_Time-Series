{
 "cells": [
  {
   "cell_type": "code",
   "execution_count": 19,
   "id": "df7125fa",
   "metadata": {},
   "outputs": [],
   "source": [
    "#import library yang dibutuhkan\n",
    "\n",
    "import numpy as np \n",
    "import pandas as pd \n",
    "from matplotlib import pyplot\n",
    "from math import sqrt\n",
    "from sklearn.metrics import mean_squared_error, mean_absolute_error\n",
    "from sklearn.preprocessing import MinMaxScaler\n",
    "\n",
    "import tensorflow as tf\n",
    "from tensorflow.keras.models import Sequential\n",
    "from tensorflow.keras.layers import Dense\n",
    "from tensorflow.keras.layers import LSTM\n",
    "from tensorflow.keras.layers import Dropout\n",
    "from tensorflow.keras.callbacks import EarlyStopping"
   ]
  },
  {
   "cell_type": "markdown",
   "id": "f5da4d99",
   "metadata": {},
   "source": [
    "## DATASET \n",
    "Download from kaggle \n",
    "link : https://www.kaggle.com/mczielinski/bitcoin-historical-data?select=bitstampUSD_1-min_data_2012-01-01_to_2021-03-31.csv"
   ]
  },
  {
   "cell_type": "code",
   "execution_count": 2,
   "id": "49c10715",
   "metadata": {},
   "outputs": [],
   "source": [
    "#baca data\n",
    "train = pd.read_csv(\"btc.csv\")"
   ]
  },
  {
   "cell_type": "code",
   "execution_count": 3,
   "id": "30fea9ae",
   "metadata": {},
   "outputs": [
    {
     "data": {
      "text/html": [
       "<div>\n",
       "<style scoped>\n",
       "    .dataframe tbody tr th:only-of-type {\n",
       "        vertical-align: middle;\n",
       "    }\n",
       "\n",
       "    .dataframe tbody tr th {\n",
       "        vertical-align: top;\n",
       "    }\n",
       "\n",
       "    .dataframe thead th {\n",
       "        text-align: right;\n",
       "    }\n",
       "</style>\n",
       "<table border=\"1\" class=\"dataframe\">\n",
       "  <thead>\n",
       "    <tr style=\"text-align: right;\">\n",
       "      <th></th>\n",
       "      <th>Timestamp</th>\n",
       "      <th>Open</th>\n",
       "      <th>High</th>\n",
       "      <th>Low</th>\n",
       "      <th>Close</th>\n",
       "      <th>Volume_(BTC)</th>\n",
       "      <th>Volume_(Currency)</th>\n",
       "      <th>Weighted_Price</th>\n",
       "    </tr>\n",
       "  </thead>\n",
       "  <tbody>\n",
       "    <tr>\n",
       "      <th>4857357</th>\n",
       "      <td>1617147660</td>\n",
       "      <td>58616.33</td>\n",
       "      <td>58616.33</td>\n",
       "      <td>58616.33</td>\n",
       "      <td>58616.33</td>\n",
       "      <td>0.000691</td>\n",
       "      <td>4.051737e+01</td>\n",
       "      <td>58616.330000</td>\n",
       "    </tr>\n",
       "    <tr>\n",
       "      <th>4857358</th>\n",
       "      <td>1617147720</td>\n",
       "      <td>58606.95</td>\n",
       "      <td>58620.59</td>\n",
       "      <td>58606.95</td>\n",
       "      <td>58620.59</td>\n",
       "      <td>0.003404</td>\n",
       "      <td>1.995570e+02</td>\n",
       "      <td>58618.245075</td>\n",
       "    </tr>\n",
       "    <tr>\n",
       "      <th>4857359</th>\n",
       "      <td>1617147780</td>\n",
       "      <td>58608.96</td>\n",
       "      <td>58608.96</td>\n",
       "      <td>58606.95</td>\n",
       "      <td>58608.38</td>\n",
       "      <td>17.443451</td>\n",
       "      <td>1.022333e+06</td>\n",
       "      <td>58608.402406</td>\n",
       "    </tr>\n",
       "    <tr>\n",
       "      <th>4857360</th>\n",
       "      <td>1617147840</td>\n",
       "      <td>58599.78</td>\n",
       "      <td>58600.00</td>\n",
       "      <td>58599.78</td>\n",
       "      <td>58600.00</td>\n",
       "      <td>3.000086</td>\n",
       "      <td>1.758051e+05</td>\n",
       "      <td>58599.999957</td>\n",
       "    </tr>\n",
       "    <tr>\n",
       "      <th>4857361</th>\n",
       "      <td>1617147900</td>\n",
       "      <td>58599.99</td>\n",
       "      <td>58600.00</td>\n",
       "      <td>58599.99</td>\n",
       "      <td>58600.00</td>\n",
       "      <td>10.412178</td>\n",
       "      <td>6.101536e+05</td>\n",
       "      <td>58599.999683</td>\n",
       "    </tr>\n",
       "    <tr>\n",
       "      <th>4857362</th>\n",
       "      <td>1617147960</td>\n",
       "      <td>58631.74</td>\n",
       "      <td>58699.00</td>\n",
       "      <td>58631.74</td>\n",
       "      <td>58666.54</td>\n",
       "      <td>10.421432</td>\n",
       "      <td>6.116325e+05</td>\n",
       "      <td>58689.870394</td>\n",
       "    </tr>\n",
       "    <tr>\n",
       "      <th>4857363</th>\n",
       "      <td>1617148020</td>\n",
       "      <td>58680.18</td>\n",
       "      <td>58702.79</td>\n",
       "      <td>58680.18</td>\n",
       "      <td>58702.79</td>\n",
       "      <td>0.144199</td>\n",
       "      <td>8.461819e+03</td>\n",
       "      <td>58681.583871</td>\n",
       "    </tr>\n",
       "    <tr>\n",
       "      <th>4857364</th>\n",
       "      <td>1617148080</td>\n",
       "      <td>58699.45</td>\n",
       "      <td>58699.45</td>\n",
       "      <td>58675.12</td>\n",
       "      <td>58677.70</td>\n",
       "      <td>1.165074</td>\n",
       "      <td>6.836340e+04</td>\n",
       "      <td>58677.332331</td>\n",
       "    </tr>\n",
       "    <tr>\n",
       "      <th>4857365</th>\n",
       "      <td>1617148140</td>\n",
       "      <td>58673.20</td>\n",
       "      <td>58673.20</td>\n",
       "      <td>58644.13</td>\n",
       "      <td>58644.13</td>\n",
       "      <td>0.843998</td>\n",
       "      <td>4.949565e+04</td>\n",
       "      <td>58644.258412</td>\n",
       "    </tr>\n",
       "    <tr>\n",
       "      <th>4857366</th>\n",
       "      <td>1617148200</td>\n",
       "      <td>58673.20</td>\n",
       "      <td>58689.44</td>\n",
       "      <td>58673.20</td>\n",
       "      <td>58689.44</td>\n",
       "      <td>0.576412</td>\n",
       "      <td>3.382238e+04</td>\n",
       "      <td>58677.435702</td>\n",
       "    </tr>\n",
       "    <tr>\n",
       "      <th>4857367</th>\n",
       "      <td>1617148260</td>\n",
       "      <td>58677.05</td>\n",
       "      <td>58699.90</td>\n",
       "      <td>58660.00</td>\n",
       "      <td>58699.90</td>\n",
       "      <td>2.672676</td>\n",
       "      <td>1.568327e+05</td>\n",
       "      <td>58680.021260</td>\n",
       "    </tr>\n",
       "    <tr>\n",
       "      <th>4857368</th>\n",
       "      <td>1617148320</td>\n",
       "      <td>NaN</td>\n",
       "      <td>NaN</td>\n",
       "      <td>NaN</td>\n",
       "      <td>NaN</td>\n",
       "      <td>NaN</td>\n",
       "      <td>NaN</td>\n",
       "      <td>NaN</td>\n",
       "    </tr>\n",
       "    <tr>\n",
       "      <th>4857369</th>\n",
       "      <td>1617148380</td>\n",
       "      <td>58718.68</td>\n",
       "      <td>58731.23</td>\n",
       "      <td>58698.34</td>\n",
       "      <td>58698.50</td>\n",
       "      <td>0.207983</td>\n",
       "      <td>1.220906e+04</td>\n",
       "      <td>58702.294657</td>\n",
       "    </tr>\n",
       "    <tr>\n",
       "      <th>4857370</th>\n",
       "      <td>1617148440</td>\n",
       "      <td>58736.19</td>\n",
       "      <td>58762.43</td>\n",
       "      <td>58736.19</td>\n",
       "      <td>58739.95</td>\n",
       "      <td>0.041559</td>\n",
       "      <td>2.441377e+03</td>\n",
       "      <td>58745.145351</td>\n",
       "    </tr>\n",
       "    <tr>\n",
       "      <th>4857371</th>\n",
       "      <td>1617148500</td>\n",
       "      <td>58742.18</td>\n",
       "      <td>58742.18</td>\n",
       "      <td>58714.31</td>\n",
       "      <td>58714.31</td>\n",
       "      <td>2.519999</td>\n",
       "      <td>1.480044e+05</td>\n",
       "      <td>58731.946927</td>\n",
       "    </tr>\n",
       "    <tr>\n",
       "      <th>4857372</th>\n",
       "      <td>1617148560</td>\n",
       "      <td>58714.31</td>\n",
       "      <td>58714.31</td>\n",
       "      <td>58686.00</td>\n",
       "      <td>58686.00</td>\n",
       "      <td>1.384487</td>\n",
       "      <td>8.125937e+04</td>\n",
       "      <td>58692.753339</td>\n",
       "    </tr>\n",
       "    <tr>\n",
       "      <th>4857373</th>\n",
       "      <td>1617148620</td>\n",
       "      <td>58683.97</td>\n",
       "      <td>58693.43</td>\n",
       "      <td>58683.97</td>\n",
       "      <td>58685.81</td>\n",
       "      <td>7.294848</td>\n",
       "      <td>4.281581e+05</td>\n",
       "      <td>58693.226508</td>\n",
       "    </tr>\n",
       "    <tr>\n",
       "      <th>4857374</th>\n",
       "      <td>1617148680</td>\n",
       "      <td>58693.43</td>\n",
       "      <td>58723.84</td>\n",
       "      <td>58693.43</td>\n",
       "      <td>58723.84</td>\n",
       "      <td>1.705682</td>\n",
       "      <td>1.001171e+05</td>\n",
       "      <td>58696.198496</td>\n",
       "    </tr>\n",
       "    <tr>\n",
       "      <th>4857375</th>\n",
       "      <td>1617148740</td>\n",
       "      <td>58742.18</td>\n",
       "      <td>58770.38</td>\n",
       "      <td>58742.18</td>\n",
       "      <td>58760.59</td>\n",
       "      <td>0.720415</td>\n",
       "      <td>4.233296e+04</td>\n",
       "      <td>58761.866202</td>\n",
       "    </tr>\n",
       "    <tr>\n",
       "      <th>4857376</th>\n",
       "      <td>1617148800</td>\n",
       "      <td>58767.75</td>\n",
       "      <td>58778.18</td>\n",
       "      <td>58755.97</td>\n",
       "      <td>58778.18</td>\n",
       "      <td>2.712831</td>\n",
       "      <td>1.594178e+05</td>\n",
       "      <td>58764.349363</td>\n",
       "    </tr>\n",
       "  </tbody>\n",
       "</table>\n",
       "</div>"
      ],
      "text/plain": [
       "          Timestamp      Open      High       Low     Close  Volume_(BTC)  \\\n",
       "4857357  1617147660  58616.33  58616.33  58616.33  58616.33      0.000691   \n",
       "4857358  1617147720  58606.95  58620.59  58606.95  58620.59      0.003404   \n",
       "4857359  1617147780  58608.96  58608.96  58606.95  58608.38     17.443451   \n",
       "4857360  1617147840  58599.78  58600.00  58599.78  58600.00      3.000086   \n",
       "4857361  1617147900  58599.99  58600.00  58599.99  58600.00     10.412178   \n",
       "4857362  1617147960  58631.74  58699.00  58631.74  58666.54     10.421432   \n",
       "4857363  1617148020  58680.18  58702.79  58680.18  58702.79      0.144199   \n",
       "4857364  1617148080  58699.45  58699.45  58675.12  58677.70      1.165074   \n",
       "4857365  1617148140  58673.20  58673.20  58644.13  58644.13      0.843998   \n",
       "4857366  1617148200  58673.20  58689.44  58673.20  58689.44      0.576412   \n",
       "4857367  1617148260  58677.05  58699.90  58660.00  58699.90      2.672676   \n",
       "4857368  1617148320       NaN       NaN       NaN       NaN           NaN   \n",
       "4857369  1617148380  58718.68  58731.23  58698.34  58698.50      0.207983   \n",
       "4857370  1617148440  58736.19  58762.43  58736.19  58739.95      0.041559   \n",
       "4857371  1617148500  58742.18  58742.18  58714.31  58714.31      2.519999   \n",
       "4857372  1617148560  58714.31  58714.31  58686.00  58686.00      1.384487   \n",
       "4857373  1617148620  58683.97  58693.43  58683.97  58685.81      7.294848   \n",
       "4857374  1617148680  58693.43  58723.84  58693.43  58723.84      1.705682   \n",
       "4857375  1617148740  58742.18  58770.38  58742.18  58760.59      0.720415   \n",
       "4857376  1617148800  58767.75  58778.18  58755.97  58778.18      2.712831   \n",
       "\n",
       "         Volume_(Currency)  Weighted_Price  \n",
       "4857357       4.051737e+01    58616.330000  \n",
       "4857358       1.995570e+02    58618.245075  \n",
       "4857359       1.022333e+06    58608.402406  \n",
       "4857360       1.758051e+05    58599.999957  \n",
       "4857361       6.101536e+05    58599.999683  \n",
       "4857362       6.116325e+05    58689.870394  \n",
       "4857363       8.461819e+03    58681.583871  \n",
       "4857364       6.836340e+04    58677.332331  \n",
       "4857365       4.949565e+04    58644.258412  \n",
       "4857366       3.382238e+04    58677.435702  \n",
       "4857367       1.568327e+05    58680.021260  \n",
       "4857368                NaN             NaN  \n",
       "4857369       1.220906e+04    58702.294657  \n",
       "4857370       2.441377e+03    58745.145351  \n",
       "4857371       1.480044e+05    58731.946927  \n",
       "4857372       8.125937e+04    58692.753339  \n",
       "4857373       4.281581e+05    58693.226508  \n",
       "4857374       1.001171e+05    58696.198496  \n",
       "4857375       4.233296e+04    58761.866202  \n",
       "4857376       1.594178e+05    58764.349363  "
      ]
     },
     "execution_count": 3,
     "metadata": {},
     "output_type": "execute_result"
    }
   ],
   "source": [
    "#cek data\n",
    "train.tail(20)"
   ]
  },
  {
   "cell_type": "code",
   "execution_count": 4,
   "id": "a0735021",
   "metadata": {},
   "outputs": [
    {
     "data": {
      "text/plain": [
       "Timestamp                  0\n",
       "Open                 1243608\n",
       "High                 1243608\n",
       "Low                  1243608\n",
       "Close                1243608\n",
       "Volume_(BTC)         1243608\n",
       "Volume_(Currency)    1243608\n",
       "Weighted_Price       1243608\n",
       "dtype: int64"
      ]
     },
     "execution_count": 4,
     "metadata": {},
     "output_type": "execute_result"
    }
   ],
   "source": [
    "#cek apakah ada data yang kosong\n",
    "train.isnull().sum()"
   ]
  },
  {
   "cell_type": "code",
   "execution_count": 5,
   "id": "3e3629ab",
   "metadata": {},
   "outputs": [
    {
     "data": {
      "text/plain": [
       "Timestamp            0\n",
       "Open                 0\n",
       "High                 0\n",
       "Low                  0\n",
       "Close                0\n",
       "Volume_(BTC)         0\n",
       "Volume_(Currency)    0\n",
       "Weighted_Price       0\n",
       "dtype: int64"
      ]
     },
     "execution_count": 5,
     "metadata": {},
     "output_type": "execute_result"
    }
   ],
   "source": [
    "#hapus data yang kosong\n",
    "train = train.dropna()\n",
    "train.isnull().sum()"
   ]
  },
  {
   "cell_type": "code",
   "execution_count": 6,
   "id": "14ae74f3",
   "metadata": {},
   "outputs": [],
   "source": [
    "#convert timestamp ke format waktu untuk melakukan grouping dataset\n",
    "train['date'] = pd.to_datetime(train['Timestamp'],unit='s')\n",
    "group = train.groupby('date')\n",
    "Harga_btc = group['Weighted_Price'].mean()"
   ]
  },
  {
   "cell_type": "code",
   "execution_count": 7,
   "id": "e8b6c76d",
   "metadata": {},
   "outputs": [],
   "source": [
    "#Waktu prediksi harga btc\n",
    "pred_range = 120\n",
    "data_train= Harga_btc[:len(Harga_btc)-pred_range].values.reshape(-1,1)\n",
    "data_test= Harga_btc[len(Harga_btc)-pred_range:].values.reshape(-1,1)\n",
    "\n",
    "scaler_train = MinMaxScaler(feature_range=(0, 1))\n",
    "scaled_train = scaler_train.fit_transform(data_train)\n",
    "\n",
    "scaler_test = MinMaxScaler(feature_range=(0, 1))\n",
    "scaled_test = scaler_test.fit_transform(data_test)"
   ]
  },
  {
   "cell_type": "code",
   "execution_count": 8,
   "id": "13795400",
   "metadata": {},
   "outputs": [],
   "source": [
    "#pre-process dataset untuk mencari label Y\n",
    "def preprocess_dataset(dataset, look_back=1):\n",
    "    dataX, dataY = [], []\n",
    "    for i in range(len(dataset) - look_back):\n",
    "        a = dataset[i:(i + look_back), 0]\n",
    "        dataX.append(a)\n",
    "        dataY.append(dataset[i + look_back, 0])\n",
    "    npx = np.array(dataX)\n",
    "    npy = np.array(dataY)\n",
    "    rshapeX = np.reshape(npx, (npx.shape[0], 1, npx.shape[1]))\n",
    "    return rshapeX, npy\n",
    "\n",
    "train_x, train_y = preprocess_dataset(scaled_train)\n",
    "test_x, test_y = preprocess_dataset(scaled_test)"
   ]
  },
  {
   "cell_type": "code",
   "execution_count": 41,
   "id": "9a1041d5",
   "metadata": {},
   "outputs": [
    {
     "name": "stdout",
     "output_type": "stream",
     "text": [
      "Model: \"sequential_9\"\n",
      "_________________________________________________________________\n",
      "Layer (type)                 Output Shape              Param #   \n",
      "=================================================================\n",
      "lstm_21 (LSTM)               (None, 1, 128)            66560     \n",
      "_________________________________________________________________\n",
      "lstm_22 (LSTM)               (None, 1, 64)             49408     \n",
      "_________________________________________________________________\n",
      "lstm_23 (LSTM)               (None, 32)                12416     \n",
      "_________________________________________________________________\n",
      "dense_7 (Dense)              (None, 1)                 33        \n",
      "=================================================================\n",
      "Total params: 128,417\n",
      "Trainable params: 128,417\n",
      "Non-trainable params: 0\n",
      "_________________________________________________________________\n"
     ]
    }
   ],
   "source": [
    "#define model\n",
    "model = Sequential()\n",
    "model.add(LSTM(units = 128, activation = 'relu',return_sequences=True, input_shape = (train_x.shape[1], train_x.shape[2])))\n",
    "model.add(LSTM(units = 64, input_shape = (train_x.shape[1], train_x.shape[2]),return_sequences=True))\n",
    "model.add(LSTM(units = 32, dropout=0.2))\n",
    "model.add(Dense(units = 1))\n",
    "model.summary()"
   ]
  },
  {
   "cell_type": "code",
   "execution_count": null,
   "id": "5c7bd171",
   "metadata": {},
   "outputs": [
    {
     "name": "stdout",
     "output_type": "stream",
     "text": [
      "Epoch 1/10\n",
      "1765/1765 [==============================] - 58s 33ms/step - loss: 7.1578e-04 - mae: 0.0113 - val_loss: 0.3418 - val_mae: 0.5308\n",
      "Epoch 2/10\n",
      "1765/1765 [==============================] - 66s 37ms/step - loss: 0.0069 - mae: 0.0314 - val_loss: 0.3251 - val_mae: 0.5147\n",
      "Epoch 3/10\n",
      " 499/1765 [=======>......................] - ETA: 48s - loss: 0.0193 - mae: 0.0490"
     ]
    }
   ],
   "source": [
    "#compile model dan fit\n",
    "model.compile(optimizer = 'adam', loss = 'mean_squared_error', metrics=[\"mae\"])\n",
    "callback = EarlyStopping(monitor='loss', patience=5) #callback untuk stop berdasarkan loss\n",
    "history = model.fit(train_x, train_y, batch_size = 2048, epochs = 10, verbose=1, shuffle=False, validation_data=(test_x, test_y), callbacks=[callback])"
   ]
  },
  {
   "cell_type": "code",
   "execution_count": 33,
   "id": "55b78a99",
   "metadata": {},
   "outputs": [
    {
     "data": {
      "image/png": "[encoded data removed]",
      "text/plain": [
       "<Figure size 432x288 with 1 Axes>"
      ]
     },
     "metadata": {
      "needs_background": "light"
     },
     "output_type": "display_data"
    }
   ],
   "source": [
    "#plot history loss\n",
    "pyplot.plot(history.history['loss'], label='train')\n",
    "pyplot.plot(history.history['val_loss'], label='test')\n",
    "pyplot.legend()\n",
    "pyplot.show()"
   ]
  },
  {
   "cell_type": "code",
   "execution_count": 34,
   "id": "59444250",
   "metadata": {},
   "outputs": [],
   "source": [
    "# prediksi harga BTC\n",
    "pred_harga_BTC = model.predict(test_x)\n",
    "pred_harga_BTC = scaler_test.inverse_transform(pred_harga_BTC.reshape(-1, 1))\n",
    "\n",
    "true = scaler_test.inverse_transform(test_y.reshape(-1, 1))"
   ]
  },
  {
   "cell_type": "code",
   "execution_count": 35,
   "id": "4b200adb",
   "metadata": {},
   "outputs": [
    {
     "name": "stdout",
     "output_type": "stream",
     "text": [
      "Test RMSE: 29.825\n",
      "Test MAE: 24.445\n"
     ]
    }
   ],
   "source": [
    "rmse = sqrt(mean_squared_error(true, pred_harga_BTC))\n",
    "print('Test RMSE: %.3f' % rmse)\n",
    "\n",
    "mae = mean_absolute_error(true, pred_harga_BTC)\n",
    "print('Test MAE: %.3f' % mae)\n"
   ]
  },
  {
   "cell_type": "code",
   "execution_count": 36,
   "id": "3362f943",
   "metadata": {},
   "outputs": [
    {
     "data": {
      "image/png": "[encoded data removed]",
      "text/plain": [
       "<Figure size 432x288 with 1 Axes>"
      ]
     },
     "metadata": {
      "needs_background": "light"
     },
     "output_type": "display_data"
    }
   ],
   "source": [
    "pyplot.plot(pred_harga_BTC, label='predict')\n",
    "pyplot.plot(true, label='true')\n",
    "pyplot.legend()\n",
    "pyplot.show()"
   ]
  },
  {
   "cell_type": "code",
   "execution_count": null,
   "id": "663951be",
   "metadata": {},
   "outputs": [],
   "source": []
  }
 ],
 "metadata": {
  "kernelspec": {
   "display_name": "Python 3",
   "language": "python",
   "name": "python3"
  },
  "language_info": {
   "codemirror_mode": {
    "name": "ipython",
    "version": 3
   },
   "file_extension": ".py",
   "mimetype": "text/x-python",
   "name": "python",
   "nbconvert_exporter": "python",
   "pygments_lexer": "ipython3",
   "version": "3.7.10"
  }
 },
 "nbformat": 4,
 "nbformat_minor": 5
}
